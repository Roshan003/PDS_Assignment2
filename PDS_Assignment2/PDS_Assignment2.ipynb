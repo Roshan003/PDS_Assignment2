{
  "nbformat": 4,
  "nbformat_minor": 0,
  "metadata": {
    "colab": {
      "provenance": []
    },
    "kernelspec": {
      "name": "python3",
      "display_name": "Python 3"
    },
    "language_info": {
      "name": "python"
    }
  },
  "cells": [
    {
      "cell_type": "markdown",
      "source": [
        "# Loading the Dataset"
      ],
      "metadata": {
        "id": "aIBSHzRVwwjt"
      }
    },
    {
      "cell_type": "code",
      "execution_count": 1,
      "metadata": {
        "id": "C5ZhCQdAjrBv"
      },
      "outputs": [],
      "source": [
        "import pandas as pd\n",
        "\n",
        "# Load the dataset\n",
        "data = pd.read_csv('/content/train (1).csv')"
      ]
    },
    {
      "cell_type": "code",
      "source": [
        "print(data)"
      ],
      "metadata": {
        "colab": {
          "base_uri": "https://localhost:8080/"
        },
        "id": "ALuXzOzplO8T",
        "outputId": "eab2a0c5-0610-4dd4-8908-32382d73c1b3"
      },
      "execution_count": 4,
      "outputs": [
        {
          "output_type": "stream",
          "name": "stdout",
          "text": [
            "      Unnamed: 0                              Name    Location  Year  \\\n",
            "0              1  Hyundai Creta 1.6 CRDi SX Option        Pune  2015   \n",
            "1              2                      Honda Jazz V     Chennai  2011   \n",
            "2              3                 Maruti Ertiga VDI     Chennai  2012   \n",
            "3              4   Audi A4 New 2.0 TDI Multitronic  Coimbatore  2013   \n",
            "4              6            Nissan Micra Diesel XV      Jaipur  2013   \n",
            "...          ...                               ...         ...   ...   \n",
            "5842        6014                  Maruti Swift VDI       Delhi  2014   \n",
            "5843        6015          Hyundai Xcent 1.1 CRDi S      Jaipur  2015   \n",
            "5844        6016             Mahindra Xylo D4 BSIV      Jaipur  2012   \n",
            "5845        6017                Maruti Wagon R VXI     Kolkata  2013   \n",
            "5846        6018             Chevrolet Beat Diesel   Hyderabad  2011   \n",
            "\n",
            "      Kilometers_Driven Fuel_Type Transmission Owner_Type     Mileage  \\\n",
            "0                 41000    Diesel       Manual      First  19.67 kmpl   \n",
            "1                 46000    Petrol       Manual      First    13 km/kg   \n",
            "2                 87000    Diesel       Manual      First  20.77 kmpl   \n",
            "3                 40670    Diesel    Automatic     Second   15.2 kmpl   \n",
            "4                 86999    Diesel       Manual      First  23.08 kmpl   \n",
            "...                 ...       ...          ...        ...         ...   \n",
            "5842              27365    Diesel       Manual      First   28.4 kmpl   \n",
            "5843             100000    Diesel       Manual      First   24.4 kmpl   \n",
            "5844              55000    Diesel       Manual     Second   14.0 kmpl   \n",
            "5845              46000    Petrol       Manual      First   18.9 kmpl   \n",
            "5846              47000    Diesel       Manual      First  25.44 kmpl   \n",
            "\n",
            "       Engine      Power  Seats  New_Price  Price  \n",
            "0     1582 CC  126.2 bhp    5.0        NaN  12.50  \n",
            "1     1199 CC   88.7 bhp    5.0  8.61 Lakh   4.50  \n",
            "2     1248 CC  88.76 bhp    7.0        NaN   6.00  \n",
            "3     1968 CC  140.8 bhp    5.0        NaN  17.74  \n",
            "4     1461 CC   63.1 bhp    5.0        NaN   3.50  \n",
            "...       ...        ...    ...        ...    ...  \n",
            "5842  1248 CC     74 bhp    5.0  7.88 Lakh   4.75  \n",
            "5843  1120 CC     71 bhp    5.0        NaN   4.00  \n",
            "5844  2498 CC    112 bhp    8.0        NaN   2.90  \n",
            "5845   998 CC   67.1 bhp    5.0        NaN   2.65  \n",
            "5846   936 CC   57.6 bhp    5.0        NaN   2.50  \n",
            "\n",
            "[5847 rows x 14 columns]\n"
          ]
        }
      ]
    },
    {
      "cell_type": "markdown",
      "source": [
        "# Check Mising values in the given dataset"
      ],
      "metadata": {
        "id": "XmBnZy-TxJHE"
      }
    },
    {
      "cell_type": "code",
      "source": [
        "# Check for missing values in the given dataset\n",
        "missing_values = data.isnull().sum()\n",
        "print(\"Missing values in each column:\")\n",
        "print(missing_values)"
      ],
      "metadata": {
        "colab": {
          "base_uri": "https://localhost:8080/"
        },
        "id": "Sta9IYsLlIcJ",
        "outputId": "8e521f67-b1b2-429a-9105-cf707490304e"
      },
      "execution_count": 2,
      "outputs": [
        {
          "output_type": "stream",
          "name": "stdout",
          "text": [
            "Missing values in each column:\n",
            "Unnamed: 0              0\n",
            "Name                    0\n",
            "Location                0\n",
            "Year                    0\n",
            "Kilometers_Driven       0\n",
            "Fuel_Type               0\n",
            "Transmission            0\n",
            "Owner_Type              0\n",
            "Mileage                 2\n",
            "Engine                 36\n",
            "Power                  36\n",
            "Seats                  38\n",
            "New_Price            5032\n",
            "Price                   0\n",
            "dtype: int64\n"
          ]
        }
      ]
    },
    {
      "cell_type": "markdown",
      "source": [
        "# a) Look for the missing values in all the columns and either impute them (replace with mean,median, or mode) or drop them. Justify your action for this task."
      ],
      "metadata": {
        "id": "Ab8rFsU7xXM7"
      }
    },
    {
      "cell_type": "code",
      "source": [
        "# Impute missing values with mode\n",
        "data['Mileage'].fillna(data['Mileage'].mode()[0], inplace=True)\n",
        "data['Engine'].fillna(data['Engine'].mode()[0], inplace=True)\n",
        "data['Power'].fillna(data['Power'].mode()[0], inplace=True)\n",
        "data['Seats'].fillna(data['Seats'].mode()[0], inplace=True)\n",
        "data['New_Price'].fillna(data['New_Price'].mode()[0], inplace=True)"
      ],
      "metadata": {
        "id": "SPLesgqjmRH7"
      },
      "execution_count": 5,
      "outputs": []
    },
    {
      "cell_type": "code",
      "source": [
        "# We should avoid dropping the 'New_Price' column since it contains a significant amount of missing data. Removing this column could introduce predictive modeling challenges and bias the results, given its potential importance in understanding the pricing dynamics of used cars.\n",
        "# So we can take any other column except new_price, here i'm taking price. Still it will not make any significant difference because as we can see there are 0 rows with null value\n",
        "data.dropna(subset=['Price'], inplace=True)"
      ],
      "metadata": {
        "id": "LmVwRpYem9cq"
      },
      "execution_count": 10,
      "outputs": []
    },
    {
      "cell_type": "code",
      "source": [
        "# Check if missing values are handled\n",
        "print(\"After handling missing values:\")\n",
        "print(data.isnull().sum())"
      ],
      "metadata": {
        "colab": {
          "base_uri": "https://localhost:8080/"
        },
        "id": "qwJunXHIqFdf",
        "outputId": "5dcc998c-e99d-4a65-cc88-ac1faedb4cfb"
      },
      "execution_count": 11,
      "outputs": [
        {
          "output_type": "stream",
          "name": "stdout",
          "text": [
            "After handling missing values:\n",
            "Unnamed: 0           0\n",
            "Name                 0\n",
            "Location             0\n",
            "Year                 0\n",
            "Kilometers_Driven    0\n",
            "Fuel_Type            0\n",
            "Transmission         0\n",
            "Owner_Type           0\n",
            "Mileage              0\n",
            "Engine               0\n",
            "Power                0\n",
            "Seats                0\n",
            "New_Price            0\n",
            "Price                0\n",
            "dtype: int64\n"
          ]
        }
      ]
    },
    {
      "cell_type": "code",
      "source": [
        "# Save the output dataset\n",
        "data.to_csv('afterHandlingMissingValues.csv', index=False)"
      ],
      "metadata": {
        "id": "0lsY-MFE0STj"
      },
      "execution_count": 32,
      "outputs": []
    },
    {
      "cell_type": "markdown",
      "source": [
        "# b) Remove the units from some of the attributes and only keep the numerical values (for example remove kmpl from “Mileage”, CC from “Engine”, bhp from “Power”, and lakh from “New_price”)."
      ],
      "metadata": {
        "id": "iM-3cHB5xnF3"
      }
    },
    {
      "cell_type": "code",
      "source": [
        "# Remove units from attributes\n",
        "# We use the str.extract() method along with regular expressions to extract numerical values from the specified attributes while removing the units.\n",
        "data['Mileage'] = data['Mileage'].str.extract('(\\d+.\\d+)', expand=False)\n",
        "data['Engine'] = data['Engine'].str.extract('(\\d+)', expand=False)\n",
        "data['Power'] = data['Power'].str.extract('(\\d+.\\d+)', expand=False)\n",
        "data['New_Price'] = data['New_Price'].str.extract('(\\d+.\\d+)', expand=False)"
      ],
      "metadata": {
        "id": "YQVrXA_GqPmq"
      },
      "execution_count": 12,
      "outputs": []
    },
    {
      "cell_type": "code",
      "source": [
        "# Convert data types to numeric\n",
        "# After extraction, converting attributes to numeric types using `pd.to_numeric()` ensures only numerical values persist, facilitating subsequent analysis or processing.\n",
        "data['Mileage'] = pd.to_numeric(data['Mileage'], errors='coerce')\n",
        "data['Engine'] = pd.to_numeric(data['Engine'], errors='coerce')\n",
        "data['Power'] = pd.to_numeric(data['Power'], errors='coerce')\n",
        "data['New_Price'] = pd.to_numeric(data['New_Price'], errors='coerce')\n"
      ],
      "metadata": {
        "id": "n4j0IpGwtOFC"
      },
      "execution_count": 14,
      "outputs": []
    },
    {
      "cell_type": "code",
      "source": [
        "# Display the modified dataset\n",
        "print(data.head())"
      ],
      "metadata": {
        "colab": {
          "base_uri": "https://localhost:8080/"
        },
        "id": "9_uE4J2rtbeB",
        "outputId": "88bf9be2-963a-4a4e-e051-ebdb3140b782"
      },
      "execution_count": 15,
      "outputs": [
        {
          "output_type": "stream",
          "name": "stdout",
          "text": [
            "   Unnamed: 0                              Name    Location  Year  \\\n",
            "0           1  Hyundai Creta 1.6 CRDi SX Option        Pune  2015   \n",
            "1           2                      Honda Jazz V     Chennai  2011   \n",
            "2           3                 Maruti Ertiga VDI     Chennai  2012   \n",
            "3           4   Audi A4 New 2.0 TDI Multitronic  Coimbatore  2013   \n",
            "4           6            Nissan Micra Diesel XV      Jaipur  2013   \n",
            "\n",
            "   Kilometers_Driven Fuel_Type Transmission Owner_Type  Mileage  Engine  \\\n",
            "0              41000    Diesel       Manual      First    19.67    1582   \n",
            "1              46000    Petrol       Manual      First      NaN    1199   \n",
            "2              87000    Diesel       Manual      First    20.77    1248   \n",
            "3              40670    Diesel    Automatic     Second    15.20    1968   \n",
            "4              86999    Diesel       Manual      First    23.08    1461   \n",
            "\n",
            "    Power  Seats  New_Price  Price  \n",
            "0  126.20    5.0       4.78  12.50  \n",
            "1   88.70    5.0       8.61   4.50  \n",
            "2   88.76    7.0       4.78   6.00  \n",
            "3  140.80    5.0       4.78  17.74  \n",
            "4   63.10    5.0       4.78   3.50  \n"
          ]
        }
      ]
    },
    {
      "cell_type": "code",
      "source": [
        "# Save the output dataset\n",
        "data.to_csv('removingTheUnits.csv', index=False)"
      ],
      "metadata": {
        "id": "pRkwvRvV0kY0"
      },
      "execution_count": 33,
      "outputs": []
    },
    {
      "cell_type": "markdown",
      "source": [
        "# c) Change the categorical variables (“Fuel_Type” and “Transmission”) into numerical one hot encoded value."
      ],
      "metadata": {
        "id": "kQtP3jFaxyIq"
      }
    },
    {
      "cell_type": "code",
      "source": [
        "# Convert categorical variables into one-hot encoded values\n",
        "# To convert categorical variables into numerical one-hot encoded values, we can use the pd.get_dummies() function in pandas\n",
        "data = pd.get_dummies(data, columns=['Fuel_Type', 'Transmission'])"
      ],
      "metadata": {
        "id": "0cnhOLhktzC7"
      },
      "execution_count": 16,
      "outputs": []
    },
    {
      "cell_type": "code",
      "source": [
        "print(data.head())"
      ],
      "metadata": {
        "colab": {
          "base_uri": "https://localhost:8080/"
        },
        "id": "wLm5pYI2uGx6",
        "outputId": "57360007-59d5-49ea-e9c3-92353d7d1262"
      },
      "execution_count": 17,
      "outputs": [
        {
          "output_type": "stream",
          "name": "stdout",
          "text": [
            "   Unnamed: 0                              Name    Location  Year  \\\n",
            "0           1  Hyundai Creta 1.6 CRDi SX Option        Pune  2015   \n",
            "1           2                      Honda Jazz V     Chennai  2011   \n",
            "2           3                 Maruti Ertiga VDI     Chennai  2012   \n",
            "3           4   Audi A4 New 2.0 TDI Multitronic  Coimbatore  2013   \n",
            "4           6            Nissan Micra Diesel XV      Jaipur  2013   \n",
            "\n",
            "   Kilometers_Driven Owner_Type  Mileage  Engine   Power  Seats  New_Price  \\\n",
            "0              41000      First    19.67    1582  126.20    5.0       4.78   \n",
            "1              46000      First      NaN    1199   88.70    5.0       8.61   \n",
            "2              87000      First    20.77    1248   88.76    7.0       4.78   \n",
            "3              40670     Second    15.20    1968  140.80    5.0       4.78   \n",
            "4              86999      First    23.08    1461   63.10    5.0       4.78   \n",
            "\n",
            "   Price  Fuel_Type_Diesel  Fuel_Type_Electric  Fuel_Type_Petrol  \\\n",
            "0  12.50                 1                   0                 0   \n",
            "1   4.50                 0                   0                 1   \n",
            "2   6.00                 1                   0                 0   \n",
            "3  17.74                 1                   0                 0   \n",
            "4   3.50                 1                   0                 0   \n",
            "\n",
            "   Transmission_Automatic  Transmission_Manual  \n",
            "0                       0                    1  \n",
            "1                       0                    1  \n",
            "2                       0                    1  \n",
            "3                       1                    0  \n",
            "4                       0                    1  \n"
          ]
        }
      ]
    },
    {
      "cell_type": "code",
      "source": [
        "# Save the output dataset\n",
        "data.to_csv('hotEncodedValue.csv', index=False)"
      ],
      "metadata": {
        "id": "9vLUDAd80tlZ"
      },
      "execution_count": 34,
      "outputs": []
    },
    {
      "cell_type": "markdown",
      "source": [
        "# d) Create one more feature and add this column to the dataset (you can use mutate function in R for this). For example, you can calculate the current age of the car by subtracting “Year” value from the current year."
      ],
      "metadata": {
        "id": "yyeX7ObfyEBs"
      }
    },
    {
      "cell_type": "code",
      "source": [
        "import pandas as pd\n",
        "from datetime import datetime\n",
        "\n",
        "# Get the current year\n",
        "current_year = datetime.now().year\n",
        "\n",
        "# Calculate the current age of the car\n",
        "data['Current_Age'] = current_year - data['Year']"
      ],
      "metadata": {
        "id": "TNo2GL_luNvy"
      },
      "execution_count": 19,
      "outputs": []
    },
    {
      "cell_type": "code",
      "source": [
        "print(data.head())"
      ],
      "metadata": {
        "colab": {
          "base_uri": "https://localhost:8080/"
        },
        "id": "X4_KGPquvSIZ",
        "outputId": "c2379864-f021-412c-deb2-4f599ef8d1db"
      },
      "execution_count": 20,
      "outputs": [
        {
          "output_type": "stream",
          "name": "stdout",
          "text": [
            "   Unnamed: 0                              Name    Location  Year  \\\n",
            "0           1  Hyundai Creta 1.6 CRDi SX Option        Pune  2015   \n",
            "1           2                      Honda Jazz V     Chennai  2011   \n",
            "2           3                 Maruti Ertiga VDI     Chennai  2012   \n",
            "3           4   Audi A4 New 2.0 TDI Multitronic  Coimbatore  2013   \n",
            "4           6            Nissan Micra Diesel XV      Jaipur  2013   \n",
            "\n",
            "   Kilometers_Driven Owner_Type  Mileage  Engine   Power  Seats  New_Price  \\\n",
            "0              41000      First    19.67    1582  126.20    5.0       4.78   \n",
            "1              46000      First      NaN    1199   88.70    5.0       8.61   \n",
            "2              87000      First    20.77    1248   88.76    7.0       4.78   \n",
            "3              40670     Second    15.20    1968  140.80    5.0       4.78   \n",
            "4              86999      First    23.08    1461   63.10    5.0       4.78   \n",
            "\n",
            "   Price  Fuel_Type_Diesel  Fuel_Type_Electric  Fuel_Type_Petrol  \\\n",
            "0  12.50                 1                   0                 0   \n",
            "1   4.50                 0                   0                 1   \n",
            "2   6.00                 1                   0                 0   \n",
            "3  17.74                 1                   0                 0   \n",
            "4   3.50                 1                   0                 0   \n",
            "\n",
            "   Transmission_Automatic  Transmission_Manual  Current_Age  \n",
            "0                       0                    1            9  \n",
            "1                       0                    1           13  \n",
            "2                       0                    1           12  \n",
            "3                       1                    0           11  \n",
            "4                       0                    1           11  \n"
          ]
        }
      ]
    },
    {
      "cell_type": "code",
      "source": [
        "# Save the output dataset\n",
        "data.to_csv('addAColumnToTheDataset.csv', index=False)"
      ],
      "metadata": {
        "id": "d3xajuFV0zMg"
      },
      "execution_count": 35,
      "outputs": []
    },
    {
      "cell_type": "markdown",
      "source": [
        "# e) Perform select, filter, rename, mutate, arrange and summarize with group by operations (or their equivalent operations in python) on this dataset."
      ],
      "metadata": {
        "id": "CnELWJAryLu7"
      }
    },
    {
      "cell_type": "code",
      "source": [
        "# Select operation: Select specific columns\n",
        "selected_data = data[['Name', 'Location', 'Year', 'Kilometers_Driven', 'Fuel_Type_Diesel', 'Fuel_Type_Electric', 'Fuel_Type_Petrol', 'Price']]"
      ],
      "metadata": {
        "id": "9ijAbGbXvmL_"
      },
      "execution_count": 22,
      "outputs": []
    },
    {
      "cell_type": "code",
      "source": [
        "# Filter operation: Filter rows based on a condition\n",
        "# Example filter condition: cars with price greater than 10 lakhs\n",
        "filtered_data = data[data['Price'] > 10]"
      ],
      "metadata": {
        "id": "rmYgtM-Yv6sv"
      },
      "execution_count": 23,
      "outputs": []
    },
    {
      "cell_type": "code",
      "source": [
        "# Rename operation: Rename columns\n",
        "renamed_data = data.rename(columns={'Kilometers_Driven': 'Kms_Driven'})"
      ],
      "metadata": {
        "id": "dvrAXza6wBcA"
      },
      "execution_count": 24,
      "outputs": []
    },
    {
      "cell_type": "code",
      "source": [
        "# Mutate operation: Create a new column based on existing columns\n",
        "data['Mileage_per_Km'] = data['Mileage'] / data['Kilometers_Driven']"
      ],
      "metadata": {
        "id": "EqYT7EytwHm0"
      },
      "execution_count": 25,
      "outputs": []
    },
    {
      "cell_type": "code",
      "source": [
        "# Arrange operation: Sort the dataset based on a column\n",
        "sorted_data = data.sort_values(by='Year', ascending=False)"
      ],
      "metadata": {
        "id": "WQPDNjw1wIus"
      },
      "execution_count": 26,
      "outputs": []
    },
    {
      "cell_type": "code",
      "source": [
        "# Summarize operation: Calculate summary statistics\n",
        "summary_stats = data.describe()"
      ],
      "metadata": {
        "id": "alL_3y58wLJ6"
      },
      "execution_count": 27,
      "outputs": []
    },
    {
      "cell_type": "code",
      "source": [
        "# Group by operation: Group data based on a categorical variable and perform summary statistics\n",
        "grouped_data = data.groupby('Fuel_Type_Diesel').agg({'Price': 'mean', 'Year': 'min', 'Kilometers_Driven': 'max'})"
      ],
      "metadata": {
        "id": "lOeB3XnBwNkE"
      },
      "execution_count": 30,
      "outputs": []
    },
    {
      "cell_type": "code",
      "source": [
        "# Display the results\n",
        "print(\"Selected Data:\")\n",
        "print(selected_data.head())\n",
        "\n",
        "print(\"\\nFiltered Data:\")\n",
        "print(filtered_data.head())\n",
        "\n",
        "print(\"\\nRenamed Data:\")\n",
        "print(renamed_data.head())\n",
        "\n",
        "print(\"\\nMutated Data:\")\n",
        "print(data.head())\n",
        "\n",
        "print(\"\\nSorted Data:\")\n",
        "print(sorted_data.head())\n",
        "\n",
        "print(\"\\nSummary Statistics:\")\n",
        "print(summary_stats)\n",
        "\n",
        "print(\"\\nGrouped Data:\")\n",
        "print(grouped_data)"
      ],
      "metadata": {
        "colab": {
          "base_uri": "https://localhost:8080/"
        },
        "id": "v_J1P9Pzwhhv",
        "outputId": "57ef228f-773a-4dc7-be49-95def0d5d711"
      },
      "execution_count": 31,
      "outputs": [
        {
          "output_type": "stream",
          "name": "stdout",
          "text": [
            "Selected Data:\n",
            "                               Name    Location  Year  Kilometers_Driven  \\\n",
            "0  Hyundai Creta 1.6 CRDi SX Option        Pune  2015              41000   \n",
            "1                      Honda Jazz V     Chennai  2011              46000   \n",
            "2                 Maruti Ertiga VDI     Chennai  2012              87000   \n",
            "3   Audi A4 New 2.0 TDI Multitronic  Coimbatore  2013              40670   \n",
            "4            Nissan Micra Diesel XV      Jaipur  2013              86999   \n",
            "\n",
            "   Fuel_Type_Diesel  Fuel_Type_Electric  Fuel_Type_Petrol  Price  \n",
            "0                 1                   0                 0  12.50  \n",
            "1                 0                   0                 1   4.50  \n",
            "2                 1                   0                 0   6.00  \n",
            "3                 1                   0                 0  17.74  \n",
            "4                 1                   0                 0   3.50  \n",
            "\n",
            "Filtered Data:\n",
            "    Unnamed: 0                               Name    Location  Year  \\\n",
            "0            1   Hyundai Creta 1.6 CRDi SX Option        Pune  2015   \n",
            "3            4    Audi A4 New 2.0 TDI Multitronic  Coimbatore  2013   \n",
            "5            7  Toyota Innova Crysta 2.8 GX AT 8S      Mumbai  2016   \n",
            "11          13   Land Rover Range Rover 2.2L Pure       Delhi  2014   \n",
            "12          14     Land Rover Freelander 2 TD4 SE        Pune  2012   \n",
            "\n",
            "    Kilometers_Driven Owner_Type  Mileage  Engine  Power  Seats  New_Price  \\\n",
            "0               41000      First    19.67    1582  126.2    5.0       4.78   \n",
            "3               40670     Second    15.20    1968  140.8    5.0       4.78   \n",
            "5               36000      First    11.36    2755  171.5    8.0        NaN   \n",
            "11              72000      First    12.70    2179  187.7    5.0       4.78   \n",
            "12              85000     Second     0.00    2179  115.0    5.0       4.78   \n",
            "\n",
            "    Price  Fuel_Type_Diesel  Fuel_Type_Electric  Fuel_Type_Petrol  \\\n",
            "0   12.50                 1                   0                 0   \n",
            "3   17.74                 1                   0                 0   \n",
            "5   17.50                 1                   0                 0   \n",
            "11  27.00                 1                   0                 0   \n",
            "12  17.50                 1                   0                 0   \n",
            "\n",
            "    Transmission_Automatic  Transmission_Manual  Current_Age  \n",
            "0                        0                    1            9  \n",
            "3                        1                    0           11  \n",
            "5                        1                    0            8  \n",
            "11                       1                    0           10  \n",
            "12                       1                    0           12  \n",
            "\n",
            "Renamed Data:\n",
            "   Unnamed: 0                              Name    Location  Year  Kms_Driven  \\\n",
            "0           1  Hyundai Creta 1.6 CRDi SX Option        Pune  2015       41000   \n",
            "1           2                      Honda Jazz V     Chennai  2011       46000   \n",
            "2           3                 Maruti Ertiga VDI     Chennai  2012       87000   \n",
            "3           4   Audi A4 New 2.0 TDI Multitronic  Coimbatore  2013       40670   \n",
            "4           6            Nissan Micra Diesel XV      Jaipur  2013       86999   \n",
            "\n",
            "  Owner_Type  Mileage  Engine   Power  Seats  New_Price  Price  \\\n",
            "0      First    19.67    1582  126.20    5.0       4.78  12.50   \n",
            "1      First      NaN    1199   88.70    5.0       8.61   4.50   \n",
            "2      First    20.77    1248   88.76    7.0       4.78   6.00   \n",
            "3     Second    15.20    1968  140.80    5.0       4.78  17.74   \n",
            "4      First    23.08    1461   63.10    5.0       4.78   3.50   \n",
            "\n",
            "   Fuel_Type_Diesel  Fuel_Type_Electric  Fuel_Type_Petrol  \\\n",
            "0                 1                   0                 0   \n",
            "1                 0                   0                 1   \n",
            "2                 1                   0                 0   \n",
            "3                 1                   0                 0   \n",
            "4                 1                   0                 0   \n",
            "\n",
            "   Transmission_Automatic  Transmission_Manual  Current_Age  \n",
            "0                       0                    1            9  \n",
            "1                       0                    1           13  \n",
            "2                       0                    1           12  \n",
            "3                       1                    0           11  \n",
            "4                       0                    1           11  \n",
            "\n",
            "Mutated Data:\n",
            "   Unnamed: 0                              Name    Location  Year  \\\n",
            "0           1  Hyundai Creta 1.6 CRDi SX Option        Pune  2015   \n",
            "1           2                      Honda Jazz V     Chennai  2011   \n",
            "2           3                 Maruti Ertiga VDI     Chennai  2012   \n",
            "3           4   Audi A4 New 2.0 TDI Multitronic  Coimbatore  2013   \n",
            "4           6            Nissan Micra Diesel XV      Jaipur  2013   \n",
            "\n",
            "   Kilometers_Driven Owner_Type  Mileage  Engine   Power  Seats  New_Price  \\\n",
            "0              41000      First    19.67    1582  126.20    5.0       4.78   \n",
            "1              46000      First      NaN    1199   88.70    5.0       8.61   \n",
            "2              87000      First    20.77    1248   88.76    7.0       4.78   \n",
            "3              40670     Second    15.20    1968  140.80    5.0       4.78   \n",
            "4              86999      First    23.08    1461   63.10    5.0       4.78   \n",
            "\n",
            "   Price  Fuel_Type_Diesel  Fuel_Type_Electric  Fuel_Type_Petrol  \\\n",
            "0  12.50                 1                   0                 0   \n",
            "1   4.50                 0                   0                 1   \n",
            "2   6.00                 1                   0                 0   \n",
            "3  17.74                 1                   0                 0   \n",
            "4   3.50                 1                   0                 0   \n",
            "\n",
            "   Transmission_Automatic  Transmission_Manual  Current_Age  Mileage_per_Km  \n",
            "0                       0                    1            9        0.000480  \n",
            "1                       0                    1           13             NaN  \n",
            "2                       0                    1           12        0.000239  \n",
            "3                       1                    0           11        0.000374  \n",
            "4                       0                    1           11        0.000265  \n",
            "\n",
            "Sorted Data:\n",
            "      Unnamed: 0                             Name    Location  Year  \\\n",
            "5405        5560        Renault KWID RXT Optional       Kochi  2019   \n",
            "942          975  Ford Endeavour 2.2 Trend AT 4X2       Kochi  2019   \n",
            "5533        5690        Maruti Omni 5 Seater BSIV  Coimbatore  2019   \n",
            "770          796            Mahindra XUV500 W9 AT  Coimbatore  2019   \n",
            "4267        4399       Maruti Swift Dzire AMT ZDI     Chennai  2019   \n",
            "\n",
            "      Kilometers_Driven Owner_Type  Mileage  Engine  Power  Seats  New_Price  \\\n",
            "5405               6568      First    25.17     799   53.3    5.0       4.78   \n",
            "942               11209      First    12.62    2198  158.0    7.0       4.78   \n",
            "5533               4721      First    14.00     796    NaN    5.0       4.78   \n",
            "770               19654      First    14.00    2179  155.0    7.0      21.33   \n",
            "4267              65000      First    26.59    1248    NaN    5.0       4.78   \n",
            "\n",
            "      Price  Fuel_Type_Diesel  Fuel_Type_Electric  Fuel_Type_Petrol  \\\n",
            "5405   5.09                 0                   0                 1   \n",
            "942   31.15                 1                   0                 0   \n",
            "5533   4.11                 0                   0                 1   \n",
            "770   17.63                 1                   0                 0   \n",
            "4267   6.75                 1                   0                 0   \n",
            "\n",
            "      Transmission_Automatic  Transmission_Manual  Current_Age  Mileage_per_Km  \n",
            "5405                       0                    1            5        0.003832  \n",
            "942                        1                    0            5        0.001126  \n",
            "5533                       0                    1            5        0.002965  \n",
            "770                        1                    0            5        0.000712  \n",
            "4267                       1                    0            5        0.000409  \n",
            "\n",
            "Summary Statistics:\n",
            "        Unnamed: 0         Year  Kilometers_Driven      Mileage       Engine  \\\n",
            "count  5847.000000  5847.000000       5.847000e+03  5846.000000  5847.000000   \n",
            "mean   3013.181461  2013.448435       5.841013e+04    18.159632  1628.877031   \n",
            "std    1736.398890     3.194949       9.237971e+04     4.357372   601.078362   \n",
            "min       1.000000  1998.000000       1.710000e+02     0.000000    72.000000   \n",
            "25%    1509.500000  2012.000000       3.346750e+04    15.260000  1198.000000   \n",
            "50%    3015.000000  2014.000000       5.257600e+04    18.190000  1496.000000   \n",
            "75%    4517.500000  2016.000000       7.249050e+04    21.100000  1991.000000   \n",
            "max    6018.000000  2019.000000       6.500000e+06    28.400000  5998.000000   \n",
            "\n",
            "             Power        Seats    New_Price        Price  Fuel_Type_Diesel  \\\n",
            "count  4856.000000  5847.000000  5833.000000  5847.000000       5847.000000   \n",
            "mean    121.601744     5.284590     6.944262     9.653742          0.540619   \n",
            "std      55.523864     0.804372     9.293972    11.275966          0.498390   \n",
            "min      34.200000     2.000000     1.020000     0.440000          0.000000   \n",
            "25%      83.800000     5.000000     4.780000     3.550000          0.000000   \n",
            "50%     103.600000     5.000000     4.780000     5.750000          1.000000   \n",
            "75%     147.900000     5.000000     4.780000    10.250000          1.000000   \n",
            "max     560.000000    10.000000    99.920000   160.000000          1.000000   \n",
            "\n",
            "       Fuel_Type_Electric  Fuel_Type_Petrol  Transmission_Automatic  \\\n",
            "count         5847.000000       5847.000000             5847.000000   \n",
            "mean             0.000342          0.459039                0.292800   \n",
            "std              0.018493          0.498362                0.455086   \n",
            "min              0.000000          0.000000                0.000000   \n",
            "25%              0.000000          0.000000                0.000000   \n",
            "50%              0.000000          0.000000                0.000000   \n",
            "75%              0.000000          1.000000                1.000000   \n",
            "max              1.000000          1.000000                1.000000   \n",
            "\n",
            "       Transmission_Manual  Current_Age  Mileage_per_Km  \n",
            "count          5847.000000  5847.000000     5846.000000  \n",
            "mean              0.707200    10.551565        0.000620  \n",
            "std               0.455086     3.194949        0.002313  \n",
            "min               0.000000     5.000000        0.000000  \n",
            "25%               0.000000     8.000000        0.000235  \n",
            "50%               1.000000    10.000000        0.000350  \n",
            "75%               1.000000    12.000000        0.000566  \n",
            "max               1.000000    26.000000        0.144444  \n",
            "\n",
            "Grouped Data:\n",
            "                      Price  Year  Kilometers_Driven\n",
            "Fuel_Type_Diesel                                    \n",
            "0                  5.761988  1998             620000\n",
            "1                 12.960686  1998            6500000\n"
          ]
        }
      ]
    },
    {
      "cell_type": "code",
      "source": [
        "# Save the output dataset\n",
        "data.to_csv('afterPerformingAllTheOperations.csv', index=False)"
      ],
      "metadata": {
        "id": "i2thMbif05q8"
      },
      "execution_count": 36,
      "outputs": []
    }
  ]
}